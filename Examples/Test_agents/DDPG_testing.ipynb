{
 "cells": [
  {
   "cell_type": "code",
   "execution_count": null,
   "metadata": {
    "scrolled": true
   },
   "outputs": [],
   "source": [
    "import numpy as np\n",
    "import gym\n",
    "import gym_kheperaposition\n",
    "import tensorflow as tf\n",
    "from tensorflow.keras.models import Sequential, Model\n",
    "from tensorflow.keras.layers import Dense, Activation, Flatten, Input, Concatenate, BatchNormalization, Add\n",
    "from tensorflow.keras import layers\n",
    "from tensorflow.keras.optimizers import Adam\n",
    "from rl.agents import DDPGAgent\n",
    "from rl.memory import SequentialMemory\n",
    "from rl.random import OrnsteinUhlenbeckProcess\n",
    "from rl.callbacks import FileLogger, ModelIntervalCheckpoint\n",
    "import math\n",
    "\n",
    "# Se prepara el entorno\n",
    "ENV_NAME = 'KheperaPositionObstacle-v0'\n",
    "env = gym.make(ENV_NAME)\n",
    "np.random.seed(123)\n",
    "env.seed(123)\n",
    "env.Training = True\n",
    "\n",
    "nb_actions = env.action_space.shape[0]\n",
    "nb_observation = env.observation_space.shape[0]\n",
    "max_Lin_Vel, max_Ang_Vel = env.action_space.high\n",
    "\n",
    "tanh_init = tf.random_uniform_initializer(minval=-0.02, maxval=0.02)\n",
    "sigm_init = tf.random_uniform_initializer(minval=0.6, maxval=1)\n",
    "\n",
    "# Se crean los modelos de Actor y Critic\n",
    "inputs = Input(shape=(1,) + env.observation_space.shape, name='observation_input')\n",
    "out = Flatten()(inputs)\n",
    "out = Dense(512, activation=\"relu\")(out)\n",
    "out = Dense(512, activation=\"relu\")(out)\n",
    "out = Dense(512, activation=\"relu\")(out)\n",
    "Lin_Vel = Dense(1, activation=\"sigmoid\", kernel_initializer=sigm_init)(out)\n",
    "Ang_Vel = layers.Dense(1, activation=\"tanh\", kernel_initializer=tanh_init)(out)\n",
    "outputs = Concatenate()([Lin_Vel,Ang_Vel])\n",
    "\n",
    "Actor = Model(inputs, outputs)\n",
    "print(Actor.summary())\n",
    "\n",
    "observation_input = Input(shape=(1,) + env.observation_space.shape, name='observation_input')\n",
    "observation_inputs = Flatten()(observation_input)\n",
    "observation_inputs = Dense(512, activation=\"relu\")(observation_inputs)\n",
    "\n",
    "action_input = Input(shape=nb_actions, name='action_input')\n",
    "\n",
    "concat = Concatenate()([observation_inputs, action_input])\n",
    "\n",
    "observation_out = Dense(512, activation=\"relu\")(concat)\n",
    "observation_out = Dense(512, activation=\"relu\")(observation_out)\n",
    "state_outputs = Dense(1, activation=\"linear\")(observation_out)\n",
    "\n",
    "Critic = Model([observation_input, action_input], state_outputs)\n",
    "print(Critic.summary())\n",
    "\n",
    "memory = SequentialMemory(limit=800000, window_length=1)\n",
    "random_process = OrnsteinUhlenbeckProcess(size=nb_actions, theta=.15, mu=0., sigma=.3)\n",
    "\n",
    "agent = DDPGAgent(nb_actions=nb_actions, actor=Actor, critic=Critic, critic_action_input=action_input,\n",
    "                  memory=memory, nb_steps_warmup_critic=10000, nb_steps_warmup_actor=10000,\n",
    "                  random_process=random_process, gamma=.99, target_model_update=1e-3)\n",
    "\n",
    "agent.compile(Adam(lr=.00005, clipnorm=1.), metrics=['mae'])\n",
    "\n",
    "# Se cragan los pesos del agente\n",
    "agent.load_weights('Weights/ddpg.h5')"
   ]
  },
  {
   "cell_type": "code",
   "execution_count": null,
   "metadata": {},
   "outputs": [],
   "source": [
    "# Se realiza un Test del agente\n",
    "env.MaxSteps = 1200\n",
    "env.Training = False  # Para poder elegir la posicion del robot y el TP\n",
    "agent.test(env, nb_episodes=1, visualize=False)"
   ]
  }
 ],
 "metadata": {
  "kernelspec": {
   "display_name": "Python 3",
   "language": "python",
   "name": "python3"
  },
  "language_info": {
   "codemirror_mode": {
    "name": "ipython",
    "version": 3
   },
   "file_extension": ".py",
   "mimetype": "text/x-python",
   "name": "python",
   "nbconvert_exporter": "python",
   "pygments_lexer": "ipython3",
   "version": "3.8.5"
  }
 },
 "nbformat": 4,
 "nbformat_minor": 4
}
